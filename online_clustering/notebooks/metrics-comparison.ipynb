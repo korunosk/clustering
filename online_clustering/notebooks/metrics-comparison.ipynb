{
 "cells": [
  {
   "cell_type": "code",
   "execution_count": 33,
   "metadata": {},
   "outputs": [],
   "source": [
    "import os\n",
    "import json\n",
    "import numpy as np\n",
    "from sklearn.metrics import v_measure_score\n",
    "from sklearn.metrics import adjusted_rand_score\n",
    "from matplotlib import pyplot as plt\n",
    "from tqdm.notebook import tqdm"
   ]
  },
  {
   "cell_type": "code",
   "execution_count": 34,
   "metadata": {},
   "outputs": [],
   "source": [
    "DATA_DIR     = '../data/lsir'\n",
    "LABELS_DIR   = 'labels'\n",
    "CLUSTERS_DIR = 'clusters'"
   ]
  },
  {
   "cell_type": "code",
   "execution_count": 3,
   "metadata": {},
   "outputs": [],
   "source": [
    "# with open(os.path.join(DATA_DIR, 'labels_true.json'), mode='r') as fp:\n",
    "#     labels_true = json.load(fp)\n",
    "\n",
    "\n",
    "# names = []\n",
    "# x = []\n",
    "# y = []\n",
    "    \n",
    "# for subdir, dirs, files in os.walk(os.path.join(DATA_DIR, LABELS_DIR)):\n",
    "#     for filename in tqdm(files):\n",
    "#         with open(os.path.join(subdir, filename), mode='r') as fp:\n",
    "#             labels_pred = json.load(fp)\n",
    "        \n",
    "#         n = filename[:-5]\n",
    "\n",
    "#         s1 = v_measure_score(labels_true, labels_pred)\n",
    "#         s2 = adjusted_rand_score(labels_true, labels_pred)\n",
    "        \n",
    "#         names.append(n)\n",
    "#         x.append(s1)\n",
    "#         y.append(s2)\n",
    "\n",
    "# names = np.array(names)\n",
    "# x = np.array(x)\n",
    "# y = np.array(y)\n",
    "\n",
    "\n",
    "# x, y = x[(x > 0) & (y > 0)], y[(x > 0) & (y > 0)]"
   ]
  },
  {
   "cell_type": "code",
   "execution_count": 4,
   "metadata": {},
   "outputs": [],
   "source": [
    "# import matplotlib.pyplot as plt\n",
    "# import numpy as np; np.random.seed(1)\n",
    "# %matplotlib notebook\n",
    "\n",
    "# c = np.random.randint(1,5,size=len(x))\n",
    "\n",
    "# norm = plt.Normalize(1,4)\n",
    "# cmap = plt.cm.RdYlGn\n",
    "\n",
    "# fig,ax = plt.subplots(figsize=(10,10))\n",
    "# sc = plt.scatter(x,y,c=c, s=100, cmap=cmap, norm=norm)\n",
    "\n",
    "# annot = ax.annotate(\"\", xy=(0,0), xytext=(-20,-20),textcoords=\"offset points\",\n",
    "#                     bbox=dict(boxstyle=\"round\", fc=\"w\"),\n",
    "#                     arrowprops=dict(arrowstyle=\"->\"))\n",
    "# annot.set_visible(False)\n",
    "\n",
    "# def update_annot(ind):\n",
    "\n",
    "#     pos = sc.get_offsets()[ind[\"ind\"][0]]\n",
    "#     annot.xy = pos\n",
    "#     text = \"{}, {}\".format(\" \".join(list(map(str,ind[\"ind\"]))), \n",
    "#                            \" \".join([names[n] for n in ind[\"ind\"]]))\n",
    "#     annot.set_text(text)\n",
    "#     annot.get_bbox_patch().set_facecolor(cmap(norm(c[ind[\"ind\"][0]])))\n",
    "#     annot.get_bbox_patch().set_alpha(0.4)\n",
    "\n",
    "\n",
    "# def hover(event):\n",
    "#     vis = annot.get_visible()\n",
    "#     if event.inaxes == ax:\n",
    "#         cont, ind = sc.contains(event)\n",
    "#         if cont:\n",
    "#             update_annot(ind)\n",
    "#             annot.set_visible(True)\n",
    "#             fig.canvas.draw_idle()\n",
    "#         else:\n",
    "#             if vis:\n",
    "#                 annot.set_visible(False)\n",
    "#                 fig.canvas.draw_idle()\n",
    "\n",
    "# fig.canvas.mpl_connect(\"motion_notify_event\", hover)\n",
    "\n",
    "# plt.show()"
   ]
  },
  {
   "cell_type": "code",
   "execution_count": null,
   "metadata": {},
   "outputs": [],
   "source": []
  },
  {
   "cell_type": "code",
   "execution_count": null,
   "metadata": {},
   "outputs": [],
   "source": []
  },
  {
   "cell_type": "code",
   "execution_count": null,
   "metadata": {},
   "outputs": [],
   "source": []
  },
  {
   "cell_type": "markdown",
   "metadata": {},
   "source": [
    "PEOPLE, PLACES, ORG\n",
    "\n",
    "statistics for best params (cluster distribution)\n",
    "    \n",
    "top-k clusters (#articles, homogeniety)\n",
    "    extract articles (title, text, entities)\n",
    "\n",
    "\n",
    "!! where the algo succeed and failed !!\n",
    "\n",
    "run on our dataset\n"
   ]
  },
  {
   "cell_type": "code",
   "execution_count": null,
   "metadata": {},
   "outputs": [],
   "source": []
  },
  {
   "cell_type": "code",
   "execution_count": null,
   "metadata": {},
   "outputs": [],
   "source": []
  },
  {
   "cell_type": "code",
   "execution_count": null,
   "metadata": {},
   "outputs": [],
   "source": []
  },
  {
   "cell_type": "code",
   "execution_count": 35,
   "metadata": {},
   "outputs": [],
   "source": [
    "import scipy.sparse as sp\n",
    "\n",
    "\n",
    "with open(os.path.join(DATA_DIR, 'articles.json'), mode='r') as fp:\n",
    "    articles = np.array(json.load(fp))\n",
    "\n",
    "\n",
    "with open(os.path.join(DATA_DIR, CLUSTERS_DIR, 'a=0.70 b=0.30 c=0.00 thr=0.70.json'), mode='r') as fp:\n",
    "    n, cluster_distr, article_distr, cluster_centers_3 = json.load(fp).values()\n",
    "    vocab, data, indices, indptr = cluster_centers_3.values()\n",
    "\n",
    "    n             = np.array(n, dtype=np.int)\n",
    "    cluster_distr = dict(cluster_distr)\n",
    "    article_distr = dict(article_distr)\n",
    "    \n",
    "    vocab     = dict(vocab)\n",
    "    centers   = sp.csr_matrix((data, indices, indptr), (len(n), len(vocab)), dtype=np.float)\n",
    "\n",
    "    vocab_inv = { i: term for term, i in vocab.items() }"
   ]
  },
  {
   "cell_type": "code",
   "execution_count": 36,
   "metadata": {},
   "outputs": [
    {
     "data": {
      "text/plain": [
       "[(70, 1),\n",
       " (56, 1),\n",
       " (52, 1),\n",
       " (50, 1),\n",
       " (41, 1),\n",
       " (40, 1),\n",
       " (32, 1),\n",
       " (30, 1),\n",
       " (27, 1),\n",
       " (23, 1),\n",
       " (22, 1),\n",
       " (21, 1),\n",
       " (20, 2),\n",
       " (19, 3),\n",
       " (18, 1),\n",
       " (16, 1),\n",
       " (15, 2),\n",
       " (14, 1),\n",
       " (13, 3),\n",
       " (12, 6),\n",
       " (11, 5),\n",
       " (10, 7),\n",
       " (9, 11),\n",
       " (8, 14),\n",
       " (7, 25),\n",
       " (6, 21),\n",
       " (5, 41),\n",
       " (4, 74),\n",
       " (3, 202),\n",
       " (2, 665),\n",
       " (1, 6176)]"
      ]
     },
     "execution_count": 36,
     "metadata": {},
     "output_type": "execute_result"
    }
   ],
   "source": [
    "from collections import Counter\n",
    "from operator import itemgetter\n",
    "\n",
    "sorted(Counter(n).items(), key=itemgetter(0), reverse=True)"
   ]
  },
  {
   "cell_type": "code",
   "execution_count": 43,
   "metadata": {},
   "outputs": [
    {
     "name": "stdout",
     "output_type": "stream",
     "text": [
      "57, 60, 247, 298, 337, 340, 1050, 1251, 1306, 2752 ... total: 11\n",
      "57 [56692, 134, 102, 6132, 19522, 19523, 133, 132, 4914, 2138]\n"
     ]
    },
    {
     "data": {
      "text/plain": [
       "('fauci',\n",
       " 'virus',\n",
       " 'johnson',\n",
       " 'variant',\n",
       " 'debt cancellation',\n",
       " 'generation ivy league graduate',\n",
       " 'vaccines',\n",
       " 'vaccine',\n",
       " 'black',\n",
       " 'wrong')"
      ]
     },
     "execution_count": 43,
     "metadata": {},
     "output_type": "execute_result"
    }
   ],
   "source": [
    "from operator import itemgetter\n",
    "c = np.where(n == 9)[0]\n",
    "print(', '.join(list(map(str, c[:10]))) + ' ... ' + f'total: {len(c)}')\n",
    "c = c[0]\n",
    "t = np.argsort(-centers[c].A[0])[:10].tolist()\n",
    "print(c, t)\n",
    "itemgetter(*t)(vocab_inv)"
   ]
  },
  {
   "cell_type": "code",
   "execution_count": 44,
   "metadata": {},
   "outputs": [
    {
     "data": {
      "text/plain": [
       "[57, 406, 2904, 4166, 5614, 5636, 5717, 6999, 7116]"
      ]
     },
     "execution_count": 44,
     "metadata": {},
     "output_type": "execute_result"
    }
   ],
   "source": [
    "cluster_distr[c]"
   ]
  },
  {
   "cell_type": "code",
   "execution_count": 45,
   "metadata": {},
   "outputs": [
    {
     "data": {
      "text/plain": [
       "[\"Analysis: Fauci's Messaging on Vaccines Is Counter-Productive and Demoralizing\",\n",
       " \"What Dr. Fauci is doing now that he's been vaccinated\",\n",
       " \"Dr. Fauci says new data suggest 'long' Covid symptoms can last up to 9 months\",\n",
       " 'Fauci urges public to take any COVID-19 vaccine',\n",
       " \"What Dr. Fauci is doing now that he's been vaccinated\",\n",
       " 'Dr. Fauci: Whatever COVID-19 vaccine is available, take it',\n",
       " 'Fauci: Whatever COVID vaccine is available, take it',\n",
       " 'At the double! Vaccines on a roll as Fauci says jabs will end pandemic',\n",
       " 'Whatever coronavirus vaccine is available, take it, Fauci says']"
      ]
     },
     "execution_count": 45,
     "metadata": {},
     "output_type": "execute_result"
    }
   ],
   "source": [
    "list(map(itemgetter('title'), articles[cluster_distr[c]]))"
   ]
  },
  {
   "cell_type": "code",
   "execution_count": 46,
   "metadata": {},
   "outputs": [
    {
     "data": {
      "text/plain": [
       "['If you listen to some skeptics of the COVID-19 vaccines, you\\'ll hear various doubts about effectiveness and safety, which have not been validated by the data. To the contrary, the vaccines are working miraculously well and have been proven safe among many millions of recipients across the world. Another argument that certain fence-sitters may advance is that the government isn\\'t eager to give up control over people\\'s lives anyway, so why bother getting a set of injections against a virus that probably won\\'t kill you -- especially if the Powers That Be won\\'t allow your life to return to normal as a reward. I\\'m concerned that this latter concern is being vindicated by rhetoric from top officials and amplified in the media. Reaching herd immunity is a crucial goal that will allow American life to move past the pandemic. Incessantly telling people that getting inoculated is not an effective ticket back to freedom and normalcy is a mistake. A significant number of people might well internalize that message and reach the somewhat understandable conclusion that if the vaccines \\'aren\\'t good enough,\\' why even bother? This is dangerous and counter-productive.\\n\\nI have never been one of the swooning fans, or hardcore critics, of Dr. Anthony Fauci. In fact, I\\'ve often been put off by people in each of those camps. But I\\'ll admit that his politically-tinged equivocating in the school re-opening debate, his manipulative goalpost shifting, and messaging like this has been wearing on me:\\n\\nThat\\'s the way Israel has been framing their vaccination campaign, and they lead the world in shots administered, by a mile. They are explicitly incentivizing getting the jab by correctly treating it as the inside track back to an uninhibited life (plus offering free food and booze, which probably helps, too). We now know that the vaccines overwhelmingly protect immunized people -- not only against COVID symptoms, serious cases and death, but also from infection. This means that vaccinated people pose an extremely low risk of passing the disease to anyone else. In other words, they\\'re safe. People with whom they come into contact are also safe from them. Let them live life. Stop prattling on about how common activities still may not be safe even for vaccinated people for an indefinite period of time, and how we may need still to be masking up a year from now. Again, this stuff is needlessly demoralizing and counter-productive:\\n\\n\\n\\nAs for exasperated conservatives crying, \"fire Fauci,\" Allahpundit argues \\'be careful what you wish for.\\' But there are absolutely fair criticisms to be leveled, several of which are laid out bluntly by David Harsanyi in a piece I strongly you encourage to read and consider. An excerpt:\\n\\nI\\'ll leave you with two items. First, my straightforward layperson\\'s advice on what the official \\'recommendation\\' ought to be for Americans who are fully inoculated against COVID, followed by an ugly glimpse at how awful things are in the EU on the vaccine front:\\n\\n\\n\\nI know a lot of Americans on the Left tend to fetishize Europe, but the EU\\'s sclerotic bureaucracy and other factors are producing dreadful outcomes on getting life-saving doses into the arms of EU citizens. The Europeans certainly fancy themselves far more enlightened and \"pro-science\" than we are, and many Americans would agree. And yet, the good ole USA\\'s rate of doses administered per 100 residents is more than triple the EU\\'s rate, as of this week. Also, looking at the data above, I wonder if any British opponents of Brexit might be coming around to the view that they might have gotten that one wrong.',\n",
       " 'I’m a Black, first-generation Ivy League graduate. Biden is wrong about who needs debt cancellation',\n",
       " 'Dr Anthony Fauci, Director of the National Institute of Allergy and Infectious Diseases, speaks during a White House press briefing, conducted by White House Press Secretary Jen Psaki, at the James Brady Press Briefing Room of the White House January 21, 2021 in Washington, DC.\\n\\nNew data suggests that people with Covid-19 can continue to suffer from symptoms for up to nine months after the initial infection, White House Chief Medical Advisor Dr. Anthony Fauci said Wednesday.\\n\\nResearchers at the University of Washington recently found that 30% of patients reported symptoms for as long as nine months, Fauci told reporters during a White House news briefing on Covid-19. People reported fatigue, shortness of breath, sleep disorders and other symptoms that lasted for months, he said.\\n\\nThis is a developing story. Please check back for updates.',\n",
       " 'Dr. Anthony Fauci says if a coronavirus vaccine is available, regardless of which one, take it.\\n\\nThe top US infectious disease expert told NBC on Thursday a third vaccine becoming available “is nothing but good news” and would help control of the pandemic. US regulators announced Wednesday that Johnson & Johnson’s single-dose vaccine offers strong protection against severe COVID-19. It’s expected to be approved soon by the FDA.\\n\\nFauci warns people not to hold off on getting the Johnson & Johnson vaccine while waiting for the slightly more effective Pfizer or Moderna shots.\\n\\nHe says it’s a race “between the virus and getting vaccines into people” and “the longer one waits not getting vaccinated, the better chance the virus has to get a variant or a mutation.”\\n\\nFauci says public health officials are always concerned about virus variants and stressed following public health measures of wearing masks and social distancing.\\n\\nThe predominant coronavirus variant in the United States is from Britain. Fauci says the vaccines distributed in the US “clearly can take care of that particular strain.”',\n",
       " 'I’m a Black, first-generation Ivy League graduate. Biden is wrong about who needs debt cancellation',\n",
       " 'WASHINGTON — Dr. Anthony Fauci says if a coronavirus vaccine is available, regardless of which one, take it.\\n\\nThe top U.S. infectious disease expert told NBC on Thursday a third vaccine becoming available “is nothing but good news” and would help control of the pandemic. U.S. regulators announced Wednesday that Johnson & Johnson’s single-dose vaccine offers strong protection against severe COVID-19. It’s expected to be approved soon by the FDA.\\n\\nFauci warns people not to hold off on getting the Johnson & Johnson vaccine while waiting for the slightly more effective Pfizer or Moderna shots.\\n\\nHe says it’s a race “between the virus and getting vaccines into people” and “the longer one waits not getting vaccinated, the better chance the virus has to get a variant or a mutation.”\\n\\nFauci says public health officials are always concerned about virus variants and stressed following public health measures of wearing masks and social distancing.\\n\\nThe predominant coronavirus variant in the United States is from Britain. Fauci says the vaccines distributed in the U.S. “clearly can take care of that particular strain.”',\n",
       " \"Dr. Fauci warns people shouldn't hold off on getting the Johnson & Johnson vaccine while waiting for the slightly more effective Pfizer or Moderna shots.\\n\\nWASHINGTON — Dr. Anthony Fauci says if a coronavirus vaccine is available, regardless of which one, take it.\\n\\nThe top U.S. infectious disease expert told NBC on Thursday a third vaccine becoming available “is nothing but good news” and would help control of the pandemic. U.S. regulators announced Wednesday that Johnson & Johnson’s single-dose vaccine offers strong protection against severe COVID-19. It’s expected to be approved soon by the FDA.\\n\\nFauci warns people not to hold off on getting the Johnson & Johnson vaccine while waiting for the slightly more effective Pfizer or Moderna shots.\\n\\nHe says it’s a race “between the virus and getting vaccines into people” and “the longer one waits not getting vaccinated, the better chance the virus has to get a variant or a mutation.”\\n\\nFauci says public health officials are always concerned about virus variants and stressed following public health measures of wearing masks and social distancing.\\n\\nThe predominant coronavirus variant in the United States is from Britain. Fauci says the vaccines distributed in the U.S. “clearly can take care of that particular strain.”\\n\\nPfizer has announced it has begun studying a third dose of its COVID-19 vaccine, part of a strategy to guard against mutated versions of the coronavirus.\\n\\nHealth authorities say first-generation COVID-19 vaccines still protect against variants that are emerging in different parts of the world. But manufacturers are starting to prepare now in case a more vaccine-resistant mutation comes along.\\n\\nPfizer said it will offer a third dose to 144 volunteers, drawing from people who participated in the vaccine’s early-stage U.S. testing last year. It wants to determine if an additional booster shot given six to 12 months after the first two doses would rev up the immune system enough to ward off a mutated virus.\\n\\nPfizer and its German partner, BioNTech, also are tweaking their vaccine recipe. The companies are in discussions with U.S. and European regulators about a study to evaluate doses updated to better match variants such as the one first discovered in South Africa.\",\n",
       " 'he speed of Britain’s vaccine roll-out will double in the next two months, the Government minister in charge of the programme has vowed.\\n\\nIt came as President Biden’s chief health adviser told a UK audience that it was possible to end the global pandemic through vaccination.\\n\\nDr Anthony Fauci, asked in a Science Museum webinar last night about whether the world could vaccinate its way out of the pandemic, said: “I believe that we can.” He added: “I believe that if we get a good global response with vaccinations we will be able to end this pandemic as we know it.”\\n\\nNadhim Zahawi, the vaccines deployment minister, said the UK roll-out had been “exemplary”, with 18.2 million first doses given by Tuesday night.\\n\\nHe said the infrastructure was in place to deliver “even greater doses”, with “double the rate of vaccination” in the next 10 to 11 weeks, compared with progress between December 8 and February 15. However it would be a “marathon” to vaccinate all adult Britons, with the programme only a third of the way towards its target.\\n\\nMr Zahawi said: “Now we are into the next sprint to offer the vaccine to all nine [priority] categories, which is 32 million people by the middle of April, and then ultimately to all the adult population by the end of July. I’m confident both in the vaccine supply and that we will meet our targets.”\\n\\nDr Fauci, reappointed by President Biden, told the webinar that the Pfizer and Moderna vaccines in use in the US, and the Oxford jab also being used in the UK, were offering good protection against the dominant “Kent” variant of Covid. But he said there was a “five-fold diminution in the efficacy” of the Pfizer and Moderna vaccines against the South African variant, which was yesterday announced in the Oval area of Lambeth, prompting “surge” testing.\\n\\nHe said extensive genomic surveillance of new strains was the way to suppress mutations. “If you get a good handle on that and you are able to modify your vaccines where appropriate, I believe that if we get a good global response with vaccinations we will be able to end this pandemic as we know it,” he said.\\n\\nDr Fauci also revealed his concerns about anti-vaccine propaganda, saying it could hinder attempts to immunise entire populations. “If we have a substantial proportion that does not want to get vaccinated, that would be a hindrance to reaching that goal of herd immunity,” he said.',\n",
       " 'WASHINGTON — Dr. Anthony Fauci says if a coronavirus vaccine is available, regardless of which one, take it.\\n\\nThe top U.S. infectious disease expert told NBC on Thursday a third vaccine becoming available “is nothing but good news” and would help control of the pandemic. U.S. regulators announced Wednesday that Johnson & Johnson’s single-dose vaccine offers strong protection against severe COVID-19. It’s expected to be approved soon by the FDA.\\n\\nFauci warns people not to hold off on getting the Johnson & Johnson vaccine while waiting for the slightly more effective Pfizer or Moderna shots.\\n\\nHe says it’s a race “between the virus and getting vaccines into people” and “the longer one waits not getting vaccinated, the better chance the virus has to get a variant or a mutation.”\\n\\nFauci says public health officials are always concerned about virus variants and stressed following public health measures of wearing masks and social distancing.\\n\\nThe predominant coronavirus variant in the United States is from Britain. Fauci says the vaccines distributed in the U.S. “clearly can take care of that particular strain.”\\n\\nHOW CORONAVIRUS IS SPREADING IN FLORIDA: Find the latest numbers for your county, city or zip code.\\n\\nVACCINES Q & A: Have coronavirus vaccine questions? We have answers, Florida.\\n\\nFACE MASKS: Read the latest on guidelines, tips for comfort and long-term wear\\n\\nGET THE DAYSTARTER MORNING UPDATE: Sign up to receive the most up-to-date information.\\n\\nTHE CORONAVIRUS SCRAPBOOK: We collected your stories, pictures, songs, recipes, journals and more to show what life has been like during the pandemic.\\n\\nA TRIBUTE TO THE FLORIDIANS TAKEN BY THE CORONAVIRUS: They were parents and retirees, police officer and doctors, imperfect but loved deeply.\\n\\nWe’re working hard to bring you the latest news on the coronavirus in Florida. This effort takes a lot of resources to gather and update. If you haven’t already subscribed, please consider buying a print or digital subscription.']"
      ]
     },
     "execution_count": 46,
     "metadata": {},
     "output_type": "execute_result"
    }
   ],
   "source": [
    "list(map(itemgetter('text'), articles[cluster_distr[c]]))"
   ]
  },
  {
   "cell_type": "code",
   "execution_count": null,
   "metadata": {},
   "outputs": [],
   "source": []
  },
  {
   "cell_type": "code",
   "execution_count": null,
   "metadata": {},
   "outputs": [],
   "source": []
  },
  {
   "cell_type": "code",
   "execution_count": null,
   "metadata": {},
   "outputs": [],
   "source": []
  },
  {
   "cell_type": "code",
   "execution_count": null,
   "metadata": {},
   "outputs": [],
   "source": []
  },
  {
   "cell_type": "code",
   "execution_count": null,
   "metadata": {},
   "outputs": [],
   "source": []
  },
  {
   "cell_type": "code",
   "execution_count": 7,
   "metadata": {},
   "outputs": [],
   "source": [
    "import torch\n",
    "import torch.nn as nn\n",
    "import torch.optim as optim"
   ]
  },
  {
   "cell_type": "code",
   "execution_count": 15,
   "metadata": {},
   "outputs": [
    {
     "data": {
      "text/plain": [
       "(torch.Size([1, 10, 5]), torch.Size([10, 1, 5]), torch.Size([10, 5, 1]))"
      ]
     },
     "execution_count": 15,
     "metadata": {},
     "output_type": "execute_result"
    }
   ],
   "source": [
    "x = torch.rand(10,5)\n",
    "x[None,:,:].shape, x[:,None,:].shape, x[:,:,None].shape"
   ]
  },
  {
   "cell_type": "code",
   "execution_count": 16,
   "metadata": {},
   "outputs": [
    {
     "data": {
      "text/plain": [
       "(tensor([-2.]),)"
      ]
     },
     "execution_count": 16,
     "metadata": {},
     "output_type": "execute_result"
    }
   ],
   "source": [
    "x = torch.tensor([1.]).requires_grad_()\n",
    "z = 1/x\n",
    "torch.autograd.grad(z, x, retain_graph = True)\n",
    "torch.autograd.grad(z * z, x)"
   ]
  },
  {
   "cell_type": "markdown",
   "metadata": {},
   "source": [
    "## Questions\n",
    "\n",
    "[handout-2-5](https://fleuret.org/dlc/materials/dlc-handout-2-5-basic-embeddings.pdf)\n",
    "\n",
    "Slide 10, Why $x_n^{(t-1)}$ if we only do projection?\n",
    "\n",
    "[handout-3-1](https://fleuret.org/dlc/materials/dlc-handout-3-1-perceptron.pdf)\n",
    "\n",
    "Slide 14, Shouldn't it be $w \\cdot x + b = 0$\n",
    "\n",
    "[handout-3-5](https://fleuret.org/dlc/materials/dlc-handout-3-5-gradient-descent.pdf)\n",
    "\n",
    "Slide 4, where is the Jaccobian term?\n",
    "\n",
    "[handout-6-1](https://fleuret.org/dlc/materials/dlc-handout-6-1-benefits-of-depth.pdf)\n",
    "\n",
    "Slide 8, why $\\frac{1}{2}$ after the $\\ge$?\n",
    "\n",
    "[handout-6-5](https://fleuret.org/dlc/materials/dlc-handout-6-5-residual-networks.pdf)\n",
    "\n",
    "Slide 10, shouldn't it be $C \\times 1 \\times 1$?\n"
   ]
  },
  {
   "cell_type": "code",
   "execution_count": null,
   "metadata": {},
   "outputs": [],
   "source": []
  }
 ],
 "metadata": {
  "kernelspec": {
   "display_name": "Python 3",
   "language": "python",
   "name": "python3"
  },
  "language_info": {
   "codemirror_mode": {
    "name": "ipython",
    "version": 3
   },
   "file_extension": ".py",
   "mimetype": "text/x-python",
   "name": "python",
   "nbconvert_exporter": "python",
   "pygments_lexer": "ipython3",
   "version": "3.7.10"
  }
 },
 "nbformat": 4,
 "nbformat_minor": 4
}
